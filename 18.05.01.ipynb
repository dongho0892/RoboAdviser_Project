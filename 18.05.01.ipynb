{
 "cells": [
  {
   "cell_type": "code",
   "execution_count": 1,
   "metadata": {},
   "outputs": [],
   "source": [
    "name = \"kimyuna\"\n",
    "email = \"yunakim@naver.com\"\n",
    "addr = \"Seoul\""
   ]
  },
  {
   "cell_type": "code",
   "execution_count": 2,
   "metadata": {},
   "outputs": [],
   "source": [
    "def print_business_card(name, email, addr):\n",
    "    print(\"----------------------------\")\n",
    "    print(\"Name : %s\" %name)\n",
    "    print(\"Email : %s\" % email)\n",
    "    print(\"Office Address : %s\" % addr)\n",
    "    print(\"----------------------------\")\n",
    "                    "
   ]
  },
  {
   "cell_type": "code",
   "execution_count": 3,
   "metadata": {},
   "outputs": [
    {
     "name": "stdout",
     "output_type": "stream",
     "text": [
      "----------------------------\n",
      "Name : kimyuna\n",
      "Email : yunakim@naver.com\n",
      "Office Address:Seoul\n",
      "----------------------------\n"
     ]
    }
   ],
   "source": [
    "print_business_card(name, email, addr)"
   ]
  },
  {
   "cell_type": "code",
   "execution_count": 4,
   "metadata": {},
   "outputs": [],
   "source": [
    "name2 = \"DusanBack\"\n",
    "email2 = \"dusan.back@naver.com\"\n",
    "addr2 = \"Kyunggi\""
   ]
  },
  {
   "cell_type": "code",
   "execution_count": 5,
   "metadata": {},
   "outputs": [
    {
     "name": "stdout",
     "output_type": "stream",
     "text": [
      "----------------------------\n",
      "Name : DusanBack\n",
      "Email : dusan.back@naver.com\n",
      "Office Address:Kyunggi\n",
      "----------------------------\n"
     ]
    }
   ],
   "source": [
    "print_business_card(name2, email2, addr2)"
   ]
  },
  {
   "cell_type": "code",
   "execution_count": 6,
   "metadata": {},
   "outputs": [],
   "source": [
    "name = [\"kimyuna\", \"dusanback\"]\n",
    "email = [\"yunakim@naver.com\",\"dusan.back@naver.com\"]\n",
    "add = [\"Seoul\",\"Kyunggi\"]"
   ]
  },
  {
   "cell_type": "code",
   "execution_count": 8,
   "metadata": {},
   "outputs": [
    {
     "name": "stdout",
     "output_type": "stream",
     "text": [
      "----------------------------\n",
      "Name : kimyuna\n",
      "Email : yunakim@naver.com\n",
      "Office Address:S\n",
      "----------------------------\n",
      "----------------------------\n",
      "Name : dusanback\n",
      "Email : dusan.back@naver.com\n",
      "Office Address:e\n",
      "----------------------------\n"
     ]
    }
   ],
   "source": [
    "print_business_card(name[0], email[0], addr[0])\n",
    "print_business_card(name[1], email[1], addr[1])"
   ]
  },
  {
   "cell_type": "code",
   "execution_count": 9,
   "metadata": {},
   "outputs": [],
   "source": [
    "# 명함 클래스 정의\n",
    "\n",
    "class BusinessCard:\n",
    "    pass                       # 아무것도 없을 때는 pass로 씀"
   ]
  },
  {
   "cell_type": "code",
   "execution_count": 11,
   "metadata": {},
   "outputs": [],
   "source": [
    "card1 = BusinessCard()        # 인스턴스가 하나 만들어짐"
   ]
  },
  {
   "cell_type": "code",
   "execution_count": 15,
   "metadata": {},
   "outputs": [
    {
     "data": {
      "text/plain": [
       "__main__.BusinessCard"
      ]
     },
     "execution_count": 15,
     "metadata": {},
     "output_type": "execute_result"
    }
   ],
   "source": [
    "type(card1)"
   ]
  },
  {
   "cell_type": "code",
   "execution_count": 17,
   "metadata": {},
   "outputs": [
    {
     "name": "stdout",
     "output_type": "stream",
     "text": [
      "<__main__.BusinessCard object at 0x000001FF53AA8780>\n"
     ]
    }
   ],
   "source": [
    "print(card1)   # BusinessCard의 객체   at 주소          card1이 주소를 저장하고 있다."
   ]
  },
  {
   "cell_type": "code",
   "execution_count": null,
   "metadata": {},
   "outputs": [],
   "source": [
    "# 명함 클레스에 메서드 추가\n",
    "\n",
    "class BusinessCard:\n",
    "    def set_info(self, name, email, addr):      # 메서드의 첫번째 인자로 self 자기 자신이 옴. 주는 것이 일반적임.   \n",
    "        self.name = name                        #  self.name   = 인스턴스 변수\n",
    "        \n",
    "        "
   ]
  },
  {
   "cell_type": "code",
   "execution_count": null,
   "metadata": {},
   "outputs": [],
   "source": []
  },
  {
   "cell_type": "code",
   "execution_count": null,
   "metadata": {},
   "outputs": [],
   "source": []
  },
  {
   "cell_type": "code",
   "execution_count": null,
   "metadata": {},
   "outputs": [],
   "source": []
  },
  {
   "cell_type": "code",
   "execution_count": null,
   "metadata": {},
   "outputs": [],
   "source": []
  },
  {
   "cell_type": "code",
   "execution_count": null,
   "metadata": {},
   "outputs": [],
   "source": []
  },
  {
   "cell_type": "code",
   "execution_count": null,
   "metadata": {},
   "outputs": [],
   "source": []
  },
  {
   "cell_type": "code",
   "execution_count": null,
   "metadata": {},
   "outputs": [],
   "source": []
  },
  {
   "cell_type": "code",
   "execution_count": null,
   "metadata": {},
   "outputs": [],
   "source": []
  }
 ],
 "metadata": {
  "kernelspec": {
   "display_name": "Python 3",
   "language": "python",
   "name": "python3"
  },
  "language_info": {
   "codemirror_mode": {
    "name": "ipython",
    "version": 3
   },
   "file_extension": ".py",
   "mimetype": "text/x-python",
   "name": "python",
   "nbconvert_exporter": "python",
   "pygments_lexer": "ipython3",
   "version": "3.6.5"
  }
 },
 "nbformat": 4,
 "nbformat_minor": 2
}
